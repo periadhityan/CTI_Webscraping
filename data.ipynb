{
 "cells": [
  {
   "cell_type": "code",
   "execution_count": 22,
   "metadata": {},
   "outputs": [],
   "source": [
    "import pandas as pd\n",
    "import numpy as np"
   ]
  },
  {
   "cell_type": "code",
   "execution_count": 23,
   "metadata": {},
   "outputs": [],
   "source": [
    "df = pd.read_csv('RansomHub.csv')"
   ]
  },
  {
   "cell_type": "code",
   "execution_count": 24,
   "metadata": {},
   "outputs": [
    {
     "data": {
      "text/html": [
       "<div>\n",
       "<style scoped>\n",
       "    .dataframe tbody tr th:only-of-type {\n",
       "        vertical-align: middle;\n",
       "    }\n",
       "\n",
       "    .dataframe tbody tr th {\n",
       "        vertical-align: top;\n",
       "    }\n",
       "\n",
       "    .dataframe thead th {\n",
       "        text-align: right;\n",
       "    }\n",
       "</style>\n",
       "<table border=\"1\" class=\"dataframe\">\n",
       "  <thead>\n",
       "    <tr style=\"text-align: right;\">\n",
       "      <th></th>\n",
       "      <th>2024-09-29</th>\n",
       "      <th>markdom.com</th>\n",
       "      <th>RansomHub</th>\n",
       "    </tr>\n",
       "  </thead>\n",
       "  <tbody>\n",
       "    <tr>\n",
       "      <th>0</th>\n",
       "      <td>2024-09-28</td>\n",
       "      <td>rockymountaingastro.com</td>\n",
       "      <td>RansomHub</td>\n",
       "    </tr>\n",
       "    <tr>\n",
       "      <th>1</th>\n",
       "      <td>2024-09-28</td>\n",
       "      <td>www.contegritygroup.com</td>\n",
       "      <td>RansomHub</td>\n",
       "    </tr>\n",
       "    <tr>\n",
       "      <th>2</th>\n",
       "      <td>2024-09-27</td>\n",
       "      <td>PipelBiz.com</td>\n",
       "      <td>RansomHub</td>\n",
       "    </tr>\n",
       "    <tr>\n",
       "      <th>3</th>\n",
       "      <td>2024-09-26</td>\n",
       "      <td>www.naniwa-pump.co.jp</td>\n",
       "      <td>RansomHub</td>\n",
       "    </tr>\n",
       "    <tr>\n",
       "      <th>4</th>\n",
       "      <td>2024-09-26</td>\n",
       "      <td>www.vbrlogistica.com.br</td>\n",
       "      <td>RansomHub</td>\n",
       "    </tr>\n",
       "  </tbody>\n",
       "</table>\n",
       "</div>"
      ],
      "text/plain": [
       "   2024-09-29              markdom.com  RansomHub\n",
       "0  2024-09-28  rockymountaingastro.com  RansomHub\n",
       "1  2024-09-28  www.contegritygroup.com  RansomHub\n",
       "2  2024-09-27             PipelBiz.com  RansomHub\n",
       "3  2024-09-26    www.naniwa-pump.co.jp  RansomHub\n",
       "4  2024-09-26  www.vbrlogistica.com.br  RansomHub"
      ]
     },
     "execution_count": 24,
     "metadata": {},
     "output_type": "execute_result"
    }
   ],
   "source": [
    "df.head()"
   ]
  },
  {
   "cell_type": "code",
   "execution_count": 25,
   "metadata": {},
   "outputs": [],
   "source": [
    "df.loc[-1] = ['2024-09-29', 'markdom.com', 'RansomHub']\n",
    "df.index = df.index + 1\n",
    "df.sort_index(inplace=True)\n",
    "df.columns = ['Date', 'Victim', 'Ransomware Group']"
   ]
  },
  {
   "cell_type": "code",
   "execution_count": 28,
   "metadata": {},
   "outputs": [
    {
     "data": {
      "text/html": [
       "<div>\n",
       "<style scoped>\n",
       "    .dataframe tbody tr th:only-of-type {\n",
       "        vertical-align: middle;\n",
       "    }\n",
       "\n",
       "    .dataframe tbody tr th {\n",
       "        vertical-align: top;\n",
       "    }\n",
       "\n",
       "    .dataframe thead th {\n",
       "        text-align: right;\n",
       "    }\n",
       "</style>\n",
       "<table border=\"1\" class=\"dataframe\">\n",
       "  <thead>\n",
       "    <tr style=\"text-align: right;\">\n",
       "      <th></th>\n",
       "      <th>Date</th>\n",
       "      <th>Victim</th>\n",
       "      <th>Ransomware Group</th>\n",
       "    </tr>\n",
       "  </thead>\n",
       "  <tbody>\n",
       "    <tr>\n",
       "      <th>0</th>\n",
       "      <td>2024-09-29</td>\n",
       "      <td>markdom.com</td>\n",
       "      <td>RansomHub</td>\n",
       "    </tr>\n",
       "    <tr>\n",
       "      <th>1</th>\n",
       "      <td>2024-09-28</td>\n",
       "      <td>rockymountaingastro.com</td>\n",
       "      <td>RansomHub</td>\n",
       "    </tr>\n",
       "    <tr>\n",
       "      <th>2</th>\n",
       "      <td>2024-09-28</td>\n",
       "      <td>www.contegritygroup.com</td>\n",
       "      <td>RansomHub</td>\n",
       "    </tr>\n",
       "    <tr>\n",
       "      <th>3</th>\n",
       "      <td>2024-09-27</td>\n",
       "      <td>PipelBiz.com</td>\n",
       "      <td>RansomHub</td>\n",
       "    </tr>\n",
       "    <tr>\n",
       "      <th>4</th>\n",
       "      <td>2024-09-26</td>\n",
       "      <td>www.naniwa-pump.co.jp</td>\n",
       "      <td>RansomHub</td>\n",
       "    </tr>\n",
       "  </tbody>\n",
       "</table>\n",
       "</div>"
      ],
      "text/plain": [
       "         Date                   Victim Ransomware Group\n",
       "0  2024-09-29              markdom.com        RansomHub\n",
       "1  2024-09-28  rockymountaingastro.com        RansomHub\n",
       "2  2024-09-28  www.contegritygroup.com        RansomHub\n",
       "3  2024-09-27             PipelBiz.com        RansomHub\n",
       "4  2024-09-26    www.naniwa-pump.co.jp        RansomHub"
      ]
     },
     "execution_count": 28,
     "metadata": {},
     "output_type": "execute_result"
    }
   ],
   "source": [
    "df.head()"
   ]
  },
  {
   "cell_type": "code",
   "execution_count": 30,
   "metadata": {},
   "outputs": [],
   "source": [
    "df.insert(2, \"Country\", \"\")"
   ]
  },
  {
   "cell_type": "code",
   "execution_count": 31,
   "metadata": {},
   "outputs": [
    {
     "data": {
      "text/html": [
       "<div>\n",
       "<style scoped>\n",
       "    .dataframe tbody tr th:only-of-type {\n",
       "        vertical-align: middle;\n",
       "    }\n",
       "\n",
       "    .dataframe tbody tr th {\n",
       "        vertical-align: top;\n",
       "    }\n",
       "\n",
       "    .dataframe thead th {\n",
       "        text-align: right;\n",
       "    }\n",
       "</style>\n",
       "<table border=\"1\" class=\"dataframe\">\n",
       "  <thead>\n",
       "    <tr style=\"text-align: right;\">\n",
       "      <th></th>\n",
       "      <th>Date</th>\n",
       "      <th>Victim</th>\n",
       "      <th>Country</th>\n",
       "      <th>Ransomware Group</th>\n",
       "    </tr>\n",
       "  </thead>\n",
       "  <tbody>\n",
       "    <tr>\n",
       "      <th>0</th>\n",
       "      <td>2024-09-29</td>\n",
       "      <td>markdom.com</td>\n",
       "      <td></td>\n",
       "      <td>RansomHub</td>\n",
       "    </tr>\n",
       "    <tr>\n",
       "      <th>1</th>\n",
       "      <td>2024-09-28</td>\n",
       "      <td>rockymountaingastro.com</td>\n",
       "      <td></td>\n",
       "      <td>RansomHub</td>\n",
       "    </tr>\n",
       "    <tr>\n",
       "      <th>2</th>\n",
       "      <td>2024-09-28</td>\n",
       "      <td>www.contegritygroup.com</td>\n",
       "      <td></td>\n",
       "      <td>RansomHub</td>\n",
       "    </tr>\n",
       "    <tr>\n",
       "      <th>3</th>\n",
       "      <td>2024-09-27</td>\n",
       "      <td>PipelBiz.com</td>\n",
       "      <td></td>\n",
       "      <td>RansomHub</td>\n",
       "    </tr>\n",
       "    <tr>\n",
       "      <th>4</th>\n",
       "      <td>2024-09-26</td>\n",
       "      <td>www.naniwa-pump.co.jp</td>\n",
       "      <td></td>\n",
       "      <td>RansomHub</td>\n",
       "    </tr>\n",
       "  </tbody>\n",
       "</table>\n",
       "</div>"
      ],
      "text/plain": [
       "         Date                   Victim Country Ransomware Group\n",
       "0  2024-09-29              markdom.com                RansomHub\n",
       "1  2024-09-28  rockymountaingastro.com                RansomHub\n",
       "2  2024-09-28  www.contegritygroup.com                RansomHub\n",
       "3  2024-09-27             PipelBiz.com                RansomHub\n",
       "4  2024-09-26    www.naniwa-pump.co.jp                RansomHub"
      ]
     },
     "execution_count": 31,
     "metadata": {},
     "output_type": "execute_result"
    }
   ],
   "source": [
    "df.head()"
   ]
  },
  {
   "cell_type": "code",
   "execution_count": null,
   "metadata": {},
   "outputs": [],
   "source": [
    "prompt = \"I am going to give you the website of a victim of ransomware. I need you to provide me with the country the company is based in. Nothing else. Just the country. No other information. Thank you\""
   ]
  }
 ],
 "metadata": {
  "kernelspec": {
   "display_name": "Python 3",
   "language": "python",
   "name": "python3"
  },
  "language_info": {
   "codemirror_mode": {
    "name": "ipython",
    "version": 3
   },
   "file_extension": ".py",
   "mimetype": "text/x-python",
   "name": "python",
   "nbconvert_exporter": "python",
   "pygments_lexer": "ipython3",
   "version": "3.12.6"
  }
 },
 "nbformat": 4,
 "nbformat_minor": 2
}
